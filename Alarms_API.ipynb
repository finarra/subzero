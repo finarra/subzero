{
 "cells": [
  {
   "cell_type": "code",
   "execution_count": 2,
   "id": "4cbd7f45",
   "metadata": {},
   "outputs": [
    {
     "name": "stdout",
     "output_type": "stream",
     "text": [
      "200\n"
     ]
    }
   ],
   "source": [
    "import requests\n",
    "# from config import saveris_token\n",
    "\n",
    "url = \"https://americas.saveris.net/SaverisConnector/ws/api/saveris/v1/measuringPoint/alarm\"\n",
    "\n",
    "headers={\n",
    "  \"accept\": \"application/json\",\n",
    "    # \"authorization\": (\"Bearer\" + saveris_token),\n",
    "    # \"authorization\": f\"Bearer {saveris_token}\"\n",
    "  \"authorization\": f\"Bearer {saveris_token}\",\n",
    "}\n",
    "\n",
    "\n",
    "resp = requests.get(url, headers=headers)\n",
    "\n",
    "print(resp.status_code)\n"
   ]
  },
  {
   "cell_type": "code",
   "execution_count": 3,
   "id": "a270cec5",
   "metadata": {},
   "outputs": [
    {
     "data": {
      "text/plain": [
       "{'apiCallsLeft': 9962,\n",
       " 'version': '1.1.0',\n",
       " 'alarms': [{'measuringPointId': '6oq4X',\n",
       "   'channelName': 'T3_54701675_1',\n",
       "   'limitValue': '-32',\n",
       "   'limitViolationValue': '-31',\n",
       "   'limitUnit': '°C',\n",
       "   'isoLimitValue': '-32',\n",
       "   'isoLimitViolationValue': '-31',\n",
       "   'isoUnit': '°C',\n",
       "   'timestamp': '2022-05-18T20:00:00Z'},\n",
       "  {'measuringPointId': 'PpnjR',\n",
       "   'channelName': 'T3_54701482_0',\n",
       "   'limitValue': '-22',\n",
       "   'limitViolationValue': '-21.6',\n",
       "   'limitUnit': '°C',\n",
       "   'isoLimitValue': '-22',\n",
       "   'isoLimitViolationValue': '-21.6',\n",
       "   'isoUnit': '°C',\n",
       "   'timestamp': '2022-05-18T21:30:00Z'},\n",
       "  {'measuringPointId': 'b7jXD',\n",
       "   'channelName': 'T3_54701482_1',\n",
       "   'limitValue': '-22',\n",
       "   'limitViolationValue': '-20.9',\n",
       "   'limitUnit': '°C',\n",
       "   'isoLimitValue': '-22',\n",
       "   'isoLimitViolationValue': '-20.9',\n",
       "   'isoUnit': '°C',\n",
       "   'timestamp': '2022-05-18T23:15:00Z'},\n",
       "  {'measuringPointId': 'RQDjm',\n",
       "   'channelName': 'T3_54671957_0',\n",
       "   'limitValue': '-22',\n",
       "   'limitViolationValue': '-21.4',\n",
       "   'limitUnit': '°C',\n",
       "   'isoLimitValue': '-22',\n",
       "   'isoLimitViolationValue': '-21.4',\n",
       "   'isoUnit': '°C',\n",
       "   'timestamp': '2022-05-18T23:30:00Z'}],\n",
       " 'systemWarnings': None}"
      ]
     },
     "execution_count": 3,
     "metadata": {},
     "output_type": "execute_result"
    }
   ],
   "source": [
    "resp.json()"
   ]
  },
  {
   "cell_type": "code",
   "execution_count": 12,
   "id": "79484373",
   "metadata": {},
   "outputs": [
    {
     "data": {
      "text/plain": [
       "[{'measuringPointId': '6oq4X',\n",
       "  'channelName': 'T3_54701675_1',\n",
       "  'limitValue': '-32',\n",
       "  'limitViolationValue': '-31',\n",
       "  'limitUnit': '°C',\n",
       "  'isoLimitValue': '-32',\n",
       "  'isoLimitViolationValue': '-31',\n",
       "  'isoUnit': '°C',\n",
       "  'timestamp': '2022-05-18T20:00:00Z'},\n",
       " {'measuringPointId': 'PpnjR',\n",
       "  'channelName': 'T3_54701482_0',\n",
       "  'limitValue': '-22',\n",
       "  'limitViolationValue': '-21.6',\n",
       "  'limitUnit': '°C',\n",
       "  'isoLimitValue': '-22',\n",
       "  'isoLimitViolationValue': '-21.6',\n",
       "  'isoUnit': '°C',\n",
       "  'timestamp': '2022-05-18T21:30:00Z'},\n",
       " {'measuringPointId': 'b7jXD',\n",
       "  'channelName': 'T3_54701482_1',\n",
       "  'limitValue': '-22',\n",
       "  'limitViolationValue': '-20.9',\n",
       "  'limitUnit': '°C',\n",
       "  'isoLimitValue': '-22',\n",
       "  'isoLimitViolationValue': '-20.9',\n",
       "  'isoUnit': '°C',\n",
       "  'timestamp': '2022-05-18T23:15:00Z'}]"
      ]
     },
     "execution_count": 12,
     "metadata": {},
     "output_type": "execute_result"
    }
   ],
   "source": [
    "# Getting the first 3 sensor alarms \n",
    "res = resp.json()\n",
    "res['alarms'][:3]"
   ]
  },
  {
   "cell_type": "code",
   "execution_count": null,
   "id": "b02a32f5",
   "metadata": {},
   "outputs": [],
   "source": []
  }
 ],
 "metadata": {
  "kernelspec": {
   "display_name": "PythonData",
   "language": "python",
   "name": "pythondata"
  },
  "language_info": {
   "codemirror_mode": {
    "name": "ipython",
    "version": 3
   },
   "file_extension": ".py",
   "mimetype": "text/x-python",
   "name": "python",
   "nbconvert_exporter": "python",
   "pygments_lexer": "ipython3",
   "version": "3.7.11"
  }
 },
 "nbformat": 4,
 "nbformat_minor": 5
}
