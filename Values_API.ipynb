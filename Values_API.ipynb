{
 "cells": [
  {
   "cell_type": "code",
   "execution_count": 1,
   "id": "34fddd24",
   "metadata": {},
   "outputs": [
    {
     "name": "stdout",
     "output_type": "stream",
     "text": [
      "200\n"
     ]
    }
   ],
   "source": [
    "# Import Libraries\n",
    "import requests\n",
    "from datetime import datetime\n",
    "\n",
    "# Import Token\n",
    "from config import saveris_token\n",
    "\n",
    "# URL for sensor values\n",
    "url = \"https://americas.saveris.net/SaverisConnector/ws/api/saveris/v1/measuringPoint/value\"\n",
    "\n",
    "# Set heathers to call an API with a JWT scheme\n",
    "headers={\n",
    "  \"accept\": \"application/json\",\n",
    "    # \"authorization\": (\"Bearer\" + saveris_token),\n",
    "    # \"authorization\": f\"Bearer {saveris_token}\"\n",
    "  \"authorization\": f\"Bearer {saveris_token}\",\n",
    "}\n",
    "\n",
    "# Call the API with get() method\n",
    "resp = requests.get(url, headers=headers)\n",
    "\n",
    "# Print the status response\n",
    "print(resp.status_code)"
   ]
  },
  {
   "cell_type": "code",
   "execution_count": 2,
   "id": "6f9b258f",
   "metadata": {},
   "outputs": [
    {
     "data": {
      "text/plain": [
       "{'apiCallsLeft': 9960,\n",
       " 'version': '1.1.0',\n",
       " 'measuringPoints': [{'measuringPointId': 'glyrE',\n",
       "   'channelName': 'T3_54701457_0',\n",
       "   'value': '1.8',\n",
       "   'unit': '°C',\n",
       "   'isoValue': '1.8',\n",
       "   'isoUnit': '°C',\n",
       "   'timestamp': '2022-05-20T00:45:00Z'},\n",
       "  {'measuringPointId': '5A2EL',\n",
       "   'channelName': 'T3_54701457_1',\n",
       "   'value': '0.9',\n",
       "   'unit': '°C',\n",
       "   'isoValue': '0.9',\n",
       "   'isoUnit': '°C',\n",
       "   'timestamp': '2022-05-20T00:45:00Z'},\n",
       "  {'measuringPointId': '1V7jb',\n",
       "   'channelName': 'T3_54701675_0',\n",
       "   'value': '-32.6',\n",
       "   'unit': '°C',\n",
       "   'isoValue': '-32.6',\n",
       "   'isoUnit': '°C',\n",
       "   'timestamp': '2022-05-20T01:00:00Z'},\n",
       "  {'measuringPointId': '6oq4X',\n",
       "   'channelName': 'T3_54701675_1',\n",
       "   'value': '-32.1',\n",
       "   'unit': '°C',\n",
       "   'isoValue': '-32.1',\n",
       "   'isoUnit': '°C',\n",
       "   'timestamp': '2022-05-20T01:00:00Z'},\n",
       "  {'measuringPointId': 'PpnjR',\n",
       "   'channelName': 'T3_54701482_0',\n",
       "   'value': '-22',\n",
       "   'unit': '°C',\n",
       "   'isoValue': '-22',\n",
       "   'isoUnit': '°C',\n",
       "   'timestamp': '2022-05-20T01:15:00Z'},\n",
       "  {'measuringPointId': 'b7jXD',\n",
       "   'channelName': 'T3_54701482_1',\n",
       "   'value': '-22.1',\n",
       "   'unit': '°C',\n",
       "   'isoValue': '-22.1',\n",
       "   'isoUnit': '°C',\n",
       "   'timestamp': '2022-05-20T01:15:00Z'},\n",
       "  {'measuringPointId': 'RQDjm',\n",
       "   'channelName': 'T3_54671957_0',\n",
       "   'value': '-22.4',\n",
       "   'unit': '°C',\n",
       "   'isoValue': '-22.4',\n",
       "   'isoUnit': '°C',\n",
       "   'timestamp': '2022-05-20T01:15:00Z'},\n",
       "  {'measuringPointId': 'ybkzE',\n",
       "   'channelName': 'T3_54671957_1',\n",
       "   'value': '-22.1',\n",
       "   'unit': '°C',\n",
       "   'isoValue': '-22.1',\n",
       "   'isoUnit': '°C',\n",
       "   'timestamp': '2022-05-20T01:15:00Z'},\n",
       "  {'measuringPointId': 'M0Ejl',\n",
       "   'channelName': 'T3_54701462_0',\n",
       "   'value': '3.8',\n",
       "   'unit': '°C',\n",
       "   'isoValue': '3.8',\n",
       "   'isoUnit': '°C',\n",
       "   'timestamp': '2022-05-20T01:15:00Z'},\n",
       "  {'measuringPointId': 'v1kY0',\n",
       "   'channelName': 'T3_54701462_1',\n",
       "   'value': '3.9',\n",
       "   'unit': '°C',\n",
       "   'isoValue': '3.9',\n",
       "   'isoUnit': '°C',\n",
       "   'timestamp': '2022-05-20T01:15:00Z'}]}"
      ]
     },
     "execution_count": 2,
     "metadata": {},
     "output_type": "execute_result"
    }
   ],
   "source": [
    "# Turn the text into a JSON object to see data\n",
    "resp.json()"
   ]
  },
  {
   "cell_type": "code",
   "execution_count": 3,
   "id": "3ce37063",
   "metadata": {},
   "outputs": [],
   "source": [
    "# Convert the API into an object and call it \"res\"\n",
    "res = resp.json()"
   ]
  },
  {
   "cell_type": "code",
   "execution_count": 4,
   "id": "dfc1358a",
   "metadata": {},
   "outputs": [
    {
     "data": {
      "text/plain": [
       "[{'Sensor 1': 'glyrE',\n",
       "  'Sensor 2': '5A2EL',\n",
       "  'Sensor 3': '1V7jb',\n",
       "  'Sensor 4': '6oq4X',\n",
       "  'Sensor 5': 'PpnjR',\n",
       "  'Sensor 6': 'b7jXD',\n",
       "  'Sensor 7': 'RQDjm',\n",
       "  'Sensor 8': 'ybkzE',\n",
       "  'Sensor 9': 'M0Ejl',\n",
       "  'Sensor 10': 'v1kY0'}]"
      ]
     },
     "execution_count": 4,
     "metadata": {},
     "output_type": "execute_result"
    }
   ],
   "source": [
    "# Add the 10 sensor Names into a List\n",
    "sensor_names = []\n",
    "\n",
    "# Set variables to get the IDs (names) of each sensor\n",
    "s_one = res[\"measuringPoints\"][0][\"measuringPointId\"]\n",
    "s_two = res[\"measuringPoints\"][1][\"measuringPointId\"]\n",
    "s_three = res[\"measuringPoints\"][2][\"measuringPointId\"]\n",
    "s_four = res[\"measuringPoints\"][3][\"measuringPointId\"]\n",
    "s_five = res[\"measuringPoints\"][4][\"measuringPointId\"]\n",
    "s_six = res[\"measuringPoints\"][5][\"measuringPointId\"]\n",
    "s_seven = res[\"measuringPoints\"][6][\"measuringPointId\"]\n",
    "s_eight = res[\"measuringPoints\"][7][\"measuringPointId\"]\n",
    "s_nine = res[\"measuringPoints\"][8][\"measuringPointId\"]\n",
    "s_ten = res[\"measuringPoints\"][9][\"measuringPointId\"]\n",
    "\n",
    "sensor_names.append({\"Sensor 1\": s_one,\n",
    "                  \"Sensor 2\": s_two,\n",
    "                  \"Sensor 3\": s_three,\n",
    "                  \"Sensor 4\": s_four,\n",
    "                  \"Sensor 5\": s_five,\n",
    "                  \"Sensor 6\": s_six,\n",
    "                  \"Sensor 7\": s_seven,\n",
    "                  \"Sensor 8\": s_eight,\n",
    "                  \"Sensor 9\": s_nine,\n",
    "                  \"Sensor 10\": s_ten,})\n",
    "sensor_names"
   ]
  },
  {
   "cell_type": "code",
   "execution_count": 5,
   "id": "e3636e64",
   "metadata": {},
   "outputs": [
    {
     "data": {
      "text/plain": [
       "[{'Value_1': '1.8',\n",
       "  'Value_2': '1.8',\n",
       "  'Value_3': '-32.6',\n",
       "  'Value_4': '-32.1',\n",
       "  'Value_5': '-22',\n",
       "  'Value_6': '-22.1',\n",
       "  'Value_7': '-22.4',\n",
       "  'Value_8': '-22.1',\n",
       "  'Value_9': '3.8',\n",
       "  'Value_10': '3.9'}]"
      ]
     },
     "execution_count": 5,
     "metadata": {},
     "output_type": "execute_result"
    }
   ],
   "source": [
    "# Add the 10 sensor values into a List\n",
    "sensor_values = []\n",
    "\n",
    "# Set variables to get the IDs (names) of each sensor\n",
    "value_s_one = res[\"measuringPoints\"][0][\"value\"]\n",
    "value_s_two = res[\"measuringPoints\"][1][\"value\"]\n",
    "value_s_three = res[\"measuringPoints\"][2][\"value\"]\n",
    "value_s_four = res[\"measuringPoints\"][3][\"value\"]\n",
    "value_s_five = res[\"measuringPoints\"][4][\"value\"]\n",
    "value_s_six = res[\"measuringPoints\"][5][\"value\"]\n",
    "value_s_seven = res[\"measuringPoints\"][6][\"value\"]\n",
    "value_s_eight = res[\"measuringPoints\"][7][\"value\"]\n",
    "value_s_nine = res[\"measuringPoints\"][8][\"value\"]\n",
    "value_s_ten = res[\"measuringPoints\"][9][\"value\"]\n",
    "\n",
    "sensor_values.append({\"Value_1\": value_s_one,\n",
    "                  \"Value_2\": value_s_one,\n",
    "                  \"Value_3\": value_s_three,\n",
    "                  \"Value_4\": value_s_four,\n",
    "                  \"Value_5\": value_s_five,\n",
    "                  \"Value_6\": value_s_six,\n",
    "                  \"Value_7\": value_s_seven,\n",
    "                  \"Value_8\": value_s_eight,\n",
    "                  \"Value_9\": value_s_nine,\n",
    "                  \"Value_10\":value_s_ten,})\n",
    "sensor_values"
   ]
  },
  {
   "cell_type": "code",
   "execution_count": 8,
   "id": "b7ef4566",
   "metadata": {},
   "outputs": [
    {
     "name": "stdout",
     "output_type": "stream",
     "text": [
      "dt_object1 = 2022-05-20 00:45:00\n"
     ]
    }
   ],
   "source": [
    "# Considering date is in dd/mm/yyyy format\n",
    "dt_object1 = datetime.strptime(res[\"measuringPoints\"][0][\"timestamp\"],\"%Y-%m-%-dT%-H:%-M:%-SZ\")\n",
    "print(\"dt_object1 =\", dt_object1)\n",
    "# 2022-05-19T21:45:00Z\n",
    "# %Y-%m-%d %H:%M:%S\n",
    "# \"%Y-%m-%dT%H:%M:%SZ\"\n"
   ]
  },
  {
   "cell_type": "code",
   "execution_count": 18,
   "id": "11f84996",
   "metadata": {},
   "outputs": [
    {
     "data": {
      "text/plain": [
       "[{'Value_1': datetime.datetime(2022, 5, 20, 0, 45),\n",
       "  'Hour_2': datetime.datetime(2022, 5, 20, 0, 45),\n",
       "  'Hour_3': datetime.datetime(2022, 5, 20, 1, 0),\n",
       "  'Hour_4': datetime.datetime(2022, 5, 20, 1, 0),\n",
       "  'Hour_5': datetime.datetime(2022, 5, 20, 1, 15),\n",
       "  'Hour_6': datetime.datetime(2022, 5, 20, 1, 15),\n",
       "  'Hour_7': datetime.datetime(2022, 5, 20, 1, 15),\n",
       "  'Hour_8': datetime.datetime(2022, 5, 20, 1, 15),\n",
       "  'Hour_9': datetime.datetime(2022, 5, 20, 1, 15),\n",
       "  'Hour_10': datetime.datetime(2022, 5, 20, 1, 15)}]"
      ]
     },
     "execution_count": 18,
     "metadata": {},
     "output_type": "execute_result"
    }
   ],
   "source": [
    "# Add the 10 sensor values into a List\n",
    "values_hour = []\n",
    "\n",
    "# Set variables to get the IDs (names) of each sensor\n",
    "value_h_one = datetime.strptime(res[\"measuringPoints\"][0][\"timestamp\"],\"%Y-%m-%dT%H:%M:%SZ\")\n",
    "value_h_two = datetime.strptime(res[\"measuringPoints\"][1][\"timestamp\"],\"%Y-%m-%dT%H:%M:%SZ\")\n",
    "value_h_three = datetime.strptime(res[\"measuringPoints\"][2][\"timestamp\"],\"%Y-%m-%dT%H:%M:%SZ\")\n",
    "value_h_four = datetime.strptime(res[\"measuringPoints\"][3][\"timestamp\"],\"%Y-%m-%dT%H:%M:%SZ\")\n",
    "value_h_five = datetime.strptime(res[\"measuringPoints\"][4][\"timestamp\"],\"%Y-%m-%dT%H:%M:%SZ\")\n",
    "value_h_six = datetime.strptime(res[\"measuringPoints\"][5][\"timestamp\"],\"%Y-%m-%dT%H:%M:%SZ\")\n",
    "value_h_seven = datetime.strptime(res[\"measuringPoints\"][6][\"timestamp\"],\"%Y-%m-%dT%H:%M:%SZ\")\n",
    "value_h_eight = datetime.strptime(res[\"measuringPoints\"][7][\"timestamp\"],\"%Y-%m-%dT%H:%M:%SZ\")\n",
    "value_h_nine = datetime.strptime(res[\"measuringPoints\"][8][\"timestamp\"],\"%Y-%m-%dT%H:%M:%SZ\")\n",
    "value_h_ten = datetime.strptime(res[\"measuringPoints\"][9][\"timestamp\"],\"%Y-%m-%dT%H:%M:%SZ\")\n",
    "\n",
    "values_hour.append({\"Value_1\": value_h_one,\n",
    "                  \"Hour_2\": value_h_one,\n",
    "                  \"Hour_3\": value_h_three,\n",
    "                  \"Hour_4\": value_h_four,\n",
    "                  \"Hour_5\": value_h_five,\n",
    "                  \"Hour_6\": value_h_six,\n",
    "                  \"Hour_7\": value_h_seven,\n",
    "                  \"Hour_8\": value_h_eight,\n",
    "                  \"Hour_9\": value_h_nine,\n",
    "                  \"Hour_10\":value_h_ten,})\n",
    "values_hour"
   ]
  },
  {
   "cell_type": "code",
   "execution_count": 16,
   "id": "c88c98a1",
   "metadata": {},
   "outputs": [
    {
     "name": "stdout",
     "output_type": "stream",
     "text": [
      "2022-05-20 01:15:00\n"
     ]
    }
   ],
   "source": [
    "value_h_ten = datetime.strptime(res[\"measuringPoints\"][9][\"timestamp\"],\"%Y-%m-%dT%H:%M:%SZ\")\n",
    "print(value_h_ten)"
   ]
  },
  {
   "cell_type": "code",
   "execution_count": null,
   "id": "a3a04b8a",
   "metadata": {},
   "outputs": [],
   "source": []
  }
 ],
 "metadata": {
  "kernelspec": {
   "display_name": "PythonData",
   "language": "python",
   "name": "pythondata"
  },
  "language_info": {
   "codemirror_mode": {
    "name": "ipython",
    "version": 3
   },
   "file_extension": ".py",
   "mimetype": "text/x-python",
   "name": "python",
   "nbconvert_exporter": "python",
   "pygments_lexer": "ipython3",
   "version": "3.7.11"
  }
 },
 "nbformat": 4,
 "nbformat_minor": 5
}
